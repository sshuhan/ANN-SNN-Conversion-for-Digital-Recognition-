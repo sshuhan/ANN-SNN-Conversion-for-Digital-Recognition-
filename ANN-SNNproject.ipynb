{
 "cells": [
  {
   "cell_type": "code",
   "execution_count": null,
   "id": "06c2b354",
   "metadata": {
    "id": "06c2b354"
   },
   "outputs": [],
   "source": [
    "import torch\n",
    "import torch.nn as nn\n",
    "import torchvision\n",
    "import torchvision.transforms as transforms\n",
    "from torch.utils.data import DataLoader, sampler\n",
    "import torch.optim as optim\n",
    "import os\n",
    "import time\n",
    "import pickle\n",
    "import numpy as np\n",
    "import matplotlib.pyplot as plt\n",
    "from torch.autograd import Variable\n",
    "\n",
    "os.environ[\"KMP_DUPLICATE_LIB_OK\"]=\"TRUE\""
   ]
  },
  {
   "cell_type": "code",
   "execution_count": null,
   "id": "4df2dabe",
   "metadata": {
    "id": "4df2dabe",
    "outputId": "759e2f5c-881c-4310-bd12-feb2eeeed62c"
   },
   "outputs": [
    {
     "name": "stdout",
     "output_type": "stream",
     "text": [
      "Directory data already exists\n"
     ]
    }
   ],
   "source": [
    "'''\n",
    "    explore the data\n",
    "'''\n",
    "\n",
    "try:\n",
    "    os.mkdir(\"./data\")\n",
    "    print(\"Directory data Created\")\n",
    "except FileExistsError:\n",
    "    print(\"Directory data already exists\")\n",
    "data_path = './data/'\n",
    "train_dataset = torchvision.datasets.USPS(root=data_path, train=True, download=True, transform=transforms.ToTensor())\n",
    "test_dataset = torchvision.datasets.USPS(root=data_path, train=False, download=True, transform=transforms.ToTensor())\n"
   ]
  },
  {
   "cell_type": "code",
   "execution_count": null,
   "id": "d2a8d0c7",
   "metadata": {
    "id": "d2a8d0c7",
    "outputId": "7cb06d09-a9e5-4996-fa1a-9d30a3e9a2ec"
   },
   "outputs": [
    {
     "data": {
      "text/plain": [
       "<torch._C.Generator at 0x146607dc350>"
      ]
     },
     "execution_count": 94,
     "metadata": {},
     "output_type": "execute_result"
    }
   ],
   "source": [
    "n_epochs = 3\n",
    "batch_size_train = 100\n",
    "batch_size_test = 200\n",
    "learning_rate = 0.01\n",
    "momentum = 0.5\n",
    "log_interval = 10\n",
    "\n",
    "random_seed = 1\n",
    "torch.backends.cudnn.enabled = False\n",
    "torch.manual_seed(random_seed)"
   ]
  },
  {
   "cell_type": "code",
   "execution_count": null,
   "id": "b2351684",
   "metadata": {
    "id": "b2351684",
    "outputId": "ec8ccd91-f664-4f3b-f97c-4305ef4446a8"
   },
   "outputs": [
    {
     "name": "stdout",
     "output_type": "stream",
     "text": [
      "torch.Size([200, 1, 16, 16])    torch.Size([200])\n",
      "torch.Size([200, 16, 16])\n"
     ]
    },
    {
     "data": {
      "image/png": "[encoded data removed]",
      "text/plain": [
       "<Figure size 432x288 with 6 Axes>"
      ]
     },
     "execution_count": 103,
     "metadata": {},
     "output_type": "execute_result"
    },
    {
     "data": {
      "image/png": "[encoded data removed]",
      "text/plain": [
       "<Figure size 432x288 with 6 Axes>"
      ]
     },
     "metadata": {},
     "output_type": "display_data"
    }
   ],
   "source": [
    "train_dataloader = DataLoader(train_dataset, batch_size=batch_size_train, shuffle=False, num_workers=4)\n",
    "test_dataloader = DataLoader(test_dataset, batch_size=batch_size_test, shuffle=False, num_workers=4)\n",
    "\n",
    "examples = enumerate(test_dataloader)\n",
    "batch_idx, (example_data, example_targets) = next(examples)\n",
    "\n",
    "print(example_data.shape,\"  \" ,example_targets.shape)\n",
    "\n",
    "example_data = example_data.squeeze()\n",
    "print(example_data.shape)\n",
    "\n",
    "fig = plt.figure()\n",
    "for i in range(6):\n",
    "    plt.subplot(2,3,i+1)\n",
    "    plt.tight_layout()\n",
    "    plt.imshow(example_data[i], cmap='gray', interpolation='none')\n",
    "    plt.title(\"Ground Truth: {}\".format(example_targets[i]))\n",
    "    plt.xticks([])\n",
    "    plt.yticks([])\n",
    "fig"
   ]
  },
  {
   "cell_type": "code",
   "execution_count": null,
   "id": "283ccdd8",
   "metadata": {
    "id": "283ccdd8"
   },
   "outputs": [],
   "source": [
    "'''\n",
    "    define SNN\n",
    "'''\n",
    "\n",
    "class PseudoSpikeRect(torch.autograd.Function):\n",
    "\n",
    "    @staticmethod\n",
    "    def forward(ctx, input, vth, grad_win, grad_amp):\n",
    "\n",
    "        ctx.save_for_backward(input)\n",
    "        ctx.vth = vth\n",
    "        ctx.grad_win = grad_win\n",
    "        ctx.grad_amp = grad_amp\n",
    "        \n",
    "        output = torch.gt(input, ctx.vth).float()\n",
    "        \n",
    "        return output\n",
    "\n",
    "    @staticmethod\n",
    "    def backward(ctx, grad_output):\n",
    "\n",
    "        input, = ctx.saved_tensors\n",
    "        vth = ctx.vth\n",
    "        grad_win = ctx.grad_win\n",
    "        grad_amp = ctx.grad_amp\n",
    "        grad_input = grad_output.clone()\n",
    "        \n",
    "        spike_pseudo_grad = (abs(input - vth) < 0.5 * grad_win).float()\n",
    "\n",
    "        grad = grad_amp * grad_input * spike_pseudo_grad.float()\n",
    "        return grad, None, None, None"
   ]
  },
  {
   "cell_type": "code",
   "execution_count": null,
   "id": "5e1af123",
   "metadata": {
    "id": "5e1af123"
   },
   "outputs": [],
   "source": [
    "class LinearIFCell(nn.Module):\n",
    "\n",
    "    def __init__(self, psp_func, pseudo_grad_ops, param):\n",
    "       \n",
    "        super(LinearIFCell, self).__init__()\n",
    "        self.psp_func = psp_func\n",
    "        self.pseudo_grad_ops = pseudo_grad_ops\n",
    "        self.vdecay, self.vth, self.grad_win, self.grad_amp = param\n",
    "\n",
    "    def forward(self, input_data, state):\n",
    "        pre_spike, pre_volt = state\n",
    "        volt = pre_volt * self.vdecay * (1. - pre_spike) + self.psp_func(input_data)\n",
    "        output = self.pseudo_grad_ops(volt, self.vth, self.grad_win, self.grad_amp)\n",
    "        return output, (output, volt)"
   ]
  },
  {
   "cell_type": "code",
   "execution_count": null,
   "id": "a4a4e62e",
   "metadata": {
    "id": "a4a4e62e"
   },
   "outputs": [],
   "source": [
    "class SingleHiddenLayerSNN(nn.Module):\n",
    "\n",
    "    def __init__(self, input_dim, output_dim, hidden_dim, param_dict):\n",
    "        \n",
    "        super(SingleHiddenLayerSNN, self).__init__()\n",
    "        self.input_dim = input_dim\n",
    "        self.output_dim = output_dim\n",
    "        self.hidden_dim = hidden_dim\n",
    "        pseudo_grad_ops = PseudoSpikeRect.apply\n",
    "        \n",
    "        self.hidden_cell_1 = LinearIFCell(nn.Linear(self.input_dim, self.hidden_dim, bias=False), pseudo_grad_ops, param_dict['hid_layer'])\n",
    "        self.hidden_cell_2 = LinearIFCell(nn.Linear(self.hidden_dim, self.hidden_dim, bias=False), pseudo_grad_ops, param_dict['hid_layer'])\n",
    "        self.hidden_cell_3 = LinearIFCell(nn.Linear(self.hidden_dim, self.hidden_dim, bias=False), pseudo_grad_ops, param_dict['hid_layer'])\n",
    "        self.output_cell = LinearIFCell(nn.Linear(self.hidden_dim, self.output_dim, bias=False), pseudo_grad_ops, param_dict['out_layer'])\n",
    "\n",
    "    def forward(self, spike_data, init_states_dict, batch_size, spike_ts):\n",
    "        \n",
    "        hidden_state, out_state = init_states_dict['hid_layer'], init_states_dict['out_layer']\n",
    "        hidden_state_01, hidden_state_02 = init_states_dict['hid_layer_01'], init_states_dict['hid_layer_02']\n",
    "        spike_data_flatten = spike_data.view(batch_size, self.input_dim, spike_ts)\n",
    "        output_list = []\n",
    "        for tt in range(spike_ts):\n",
    "            data_input = spike_data_flatten[:,:,tt]\n",
    "            hidden_output, hidden_state = self.hidden_cell_1(data_input, hidden_state)\n",
    "            # hidden_output, hidden_state_01 = self.hidden_cell_2(hidden_output, hidden_state_01)\n",
    "            # hidden_output, hidden_state_02 = self.hidden_cell_3(hidden_output, hidden_state_02)\n",
    "            out_output, out_state = self.output_cell(hidden_output, out_state)\n",
    "            output_list.append(out_output)\n",
    "        output = torch.sum(torch.stack(output_list), 0)\n",
    "        return output"
   ]
  },
  {
   "cell_type": "code",
   "execution_count": null,
   "id": "16ad6714",
   "metadata": {
    "id": "16ad6714"
   },
   "outputs": [],
   "source": [
    "class WrapSNN(nn.Module):\n",
    "\n",
    "    def __init__(self, input_dim, output_dim, hidden_dim, param_dict, device):\n",
    "        \n",
    "        super(WrapSNN, self).__init__()\n",
    "        self.input_dim = input_dim\n",
    "        self.output_dim = output_dim\n",
    "        self.hidden_dim = hidden_dim\n",
    "        self.device = device\n",
    "        self.snn = SingleHiddenLayerSNN(input_dim, output_dim, hidden_dim, param_dict)\n",
    "\n",
    "    def forward(self, spike_data):\n",
    "       \n",
    "        batch_size = spike_data.shape[0]\n",
    "        spike_ts = spike_data.shape[-1]\n",
    "        init_states_dict = {}\n",
    "        hidden_volt = torch.zeros(batch_size, self.hidden_dim, device=self.device)\n",
    "        hidden_spike = torch.zeros(batch_size, self.hidden_dim, device=self.device)\n",
    "        init_states_dict['hid_layer'] = (hidden_spike, hidden_volt)\n",
    "        \n",
    "        out_volt = torch.zeros(batch_size, self.output_dim, device=self.device)\n",
    "        out_spike = torch.zeros(batch_size, self.output_dim, device=self.device)\n",
    "        init_states_dict['out_layer'] = (out_spike, out_volt)\n",
    "\n",
    "        hidden_volt_01 = torch.zeros(batch_size, self.hidden_dim, device=self.device)\n",
    "        hidden_spike_01 = torch.zeros(batch_size, self.hidden_dim, device=self.device)\n",
    "        init_states_dict['hid_layer_01'] = (hidden_spike_01, hidden_volt_01)\n",
    "\n",
    "        hidden_volt_02 = torch.zeros(batch_size, self.hidden_dim, device=self.device)\n",
    "        hidden_spike_02 = torch.zeros(batch_size, self.hidden_dim, device=self.device)\n",
    "        init_states_dict['hid_layer_02'] = (hidden_spike_02, hidden_volt_02)\n",
    "\n",
    "\n",
    "\n",
    "        output = self.snn(spike_data, init_states_dict, batch_size, spike_ts)\n",
    "        return output"
   ]
  },
  {
   "cell_type": "code",
   "execution_count": null,
   "id": "968346fe",
   "metadata": {
    "id": "968346fe"
   },
   "outputs": [],
   "source": [
    "def img_2_event_img(image, device, spike_ts):\n",
    "    \n",
    "    batch_size = image.shape[0]\n",
    "    channel_size = image.shape[1]\n",
    "    image_size = image.shape[2]\n",
    "    image = image.view(batch_size, channel_size, image_size, image_size, 1)\n",
    "    \n",
    "    random_image = torch.rand(batch_size, channel_size, image_size, image_size, spike_ts, device=device)\n",
    "\n",
    "    event_image = (random_image - image < 0).float()\n",
    "\n",
    "    return event_image"
   ]
  },
  {
   "cell_type": "code",
   "execution_count": null,
   "id": "d6471eaf",
   "metadata": {
    "id": "d6471eaf"
   },
   "outputs": [],
   "source": [
    "def stbp_snn_training(network, spike_ts, device, batch_size=128, test_batch_size=256, epoch=100):\n",
    "    \n",
    "    try:\n",
    "        os.mkdir(\"./data\")\n",
    "        print(\"Directory data Created\")\n",
    "    except FileExistsError:\n",
    "        print(\"Directory data already exists\")\n",
    "    \n",
    "    data_path = './data/'\n",
    "    train_dataset = torchvision.datasets.USPS(root=data_path, train=True, download=True, transform=transforms.ToTensor())\n",
    "    test_dataset = torchvision.datasets.USPS(root=data_path, train=False, download=True, transform=transforms.ToTensor())\n",
    "\n",
    "  \n",
    "    train_dataloader = DataLoader(train_dataset, batch_size=batch_size, shuffle=False, num_workers=4)\n",
    "    test_dataloader = DataLoader(test_dataset, batch_size=test_batch_size, shuffle=False, num_workers=4)\n",
    "\n",
    "    criterion = nn.CrossEntropyLoss()\n",
    "    \n",
    "    optimizer = optim.SGD(network.parameters(), lr = 0.1)\n",
    "\n",
    "    train_loss_list, test_accuracy_list = [], []\n",
    "    test_num = len(test_dataset)\n",
    "\n",
    "    network.to(device)\n",
    "    \n",
    "    for ee in range(epoch):\n",
    "        running_loss = 0.0\n",
    "        running_batch_num = 0\n",
    "        train_start = time.time()\n",
    "        \n",
    "        for data in train_dataloader:\n",
    "\n",
    "            image, label = data[0], data[1]\n",
    "            label = label.squeeze()\n",
    "            image = image.to(device)\n",
    "            label = label.to(device)\n",
    "            \n",
    "            event_image = img_2_event_img(image, device, spike_ts)\n",
    "            event_image.squeeze()\n",
    "            event_image = event_image.reshape(-1, 256, spike_ts)\n",
    "            \n",
    "            optimizer.zero_grad(set_to_none=False)\n",
    "            network_output = network(event_image)\n",
    "            loss = criterion(network_output, label)\n",
    "            loss.backward()\n",
    "            optimizer.step()\n",
    "            \n",
    "            running_loss += loss.item()\n",
    "            running_batch_num += 1\n",
    "        train_end = time.time()\n",
    "        train_loss_list.append(running_loss / running_batch_num)\n",
    "        print(\"Epoch %d Training Loss %.4f\" % (ee, train_loss_list[-1]), end=\" \")\n",
    "        \n",
    "        \n",
    "        test_correct_num = 0\n",
    "        test_start = time.time()\n",
    "        with torch.no_grad():\n",
    "            for data in test_dataloader:\n",
    "    \n",
    "                image, label = data[0], data[1]\n",
    "                label = label.squeeze()\n",
    "                \n",
    "                image = image.to(device)\n",
    "                label = label.to(device)\n",
    "                \n",
    "                event_image = img_2_event_img(image, device, spike_ts)\n",
    "                event_image.squeeze()\n",
    "                event_image = event_image.reshape(-1, 256, spike_ts)\n",
    "                \n",
    "                outputs = network.forward(event_image)\n",
    "                \n",
    "                _, predicted = torch.max(outputs, 1)\n",
    "                \n",
    "                test_correct_num += (len(label) - torch.count_nonzero(label - predicted))\n",
    "        \n",
    "        test_end = time.time()\n",
    "        test_accuracy_list.append(test_correct_num / test_num)\n",
    "        print(\"Test Accuracy %.4f Training Time: %.1f Test Time: %.1f\" % (test_accuracy_list[-1], train_end - train_start, test_end - test_start))\n",
    "        # print(network.snn.hidden_cell_1.psp_func.weight.data)\n",
    "        # print(network.snn.hidden_cell_2.psp_func.weight.data)\n",
    "        # print(network.snn.hidden_cell_3.psp_func.weight.data)\n",
    "    \n",
    "    print(\"End Training\")\n",
    "    network.to('cpu')\n",
    "    return train_loss_list, test_accuracy_list"
   ]
  },
  {
   "cell_type": "code",
   "execution_count": null,
   "id": "6840e7ba",
   "metadata": {
    "colab": {
     "base_uri": "https://localhost:8080/"
    },
    "executionInfo": {
     "elapsed": 353110,
     "status": "ok",
     "timestamp": 1651156270100,
     "user": {
      "displayName": "CHAO ZHAO",
      "userId": "12706035146437762126"
     },
     "user_tz": 240
    },
    "id": "6840e7ba",
    "outputId": "19b35790-dbd5-4c03-c601-15cbce8731b5"
   },
   "outputs": [
    {
     "name": "stdout",
     "output_type": "stream",
     "text": [
      "Directory data already exists\n"
     ]
    },
    {
     "name": "stderr",
     "output_type": "stream",
     "text": [
      "/usr/local/lib/python3.7/dist-packages/torch/utils/data/dataloader.py:490: UserWarning: This DataLoader will create 4 worker processes in total. Our suggested max number of worker in current system is 2, which is smaller than what this DataLoader is going to create. Please be aware that excessive worker creation might get DataLoader running slow or even freeze, lower the worker number to avoid potential slowness/freeze if necessary.\n",
      "  cpuset_checked))\n"
     ]
    },
    {
     "name": "stdout",
     "output_type": "stream",
     "text": [
      "Epoch 0 Training Loss 1.3112 Test Accuracy 0.8470 Training Time: 2.8 Test Time: 0.6\n",
      "Epoch 1 Training Loss 0.3479 Test Accuracy 0.8884 Training Time: 2.8 Test Time: 0.6\n",
      "Epoch 2 Training Loss 0.2770 Test Accuracy 0.8989 Training Time: 2.8 Test Time: 0.6\n",
      "Epoch 3 Training Loss 0.2182 Test Accuracy 0.8954 Training Time: 2.9 Test Time: 0.6\n",
      "Epoch 4 Training Loss 0.1906 Test Accuracy 0.9053 Training Time: 2.8 Test Time: 0.6\n",
      "Epoch 5 Training Loss 0.1743 Test Accuracy 0.9133 Training Time: 3.5 Test Time: 0.6\n",
      "Epoch 6 Training Loss 0.1561 Test Accuracy 0.9178 Training Time: 2.8 Test Time: 0.6\n",
      "Epoch 7 Training Loss 0.1498 Test Accuracy 0.9098 Training Time: 2.9 Test Time: 0.6\n",
      "Epoch 8 Training Loss 0.1358 Test Accuracy 0.9148 Training Time: 2.8 Test Time: 0.6\n",
      "Epoch 9 Training Loss 0.1287 Test Accuracy 0.9153 Training Time: 3.2 Test Time: 0.6\n",
      "Epoch 10 Training Loss 0.1125 Test Accuracy 0.9178 Training Time: 2.9 Test Time: 0.6\n",
      "Epoch 11 Training Loss 0.1132 Test Accuracy 0.9188 Training Time: 2.9 Test Time: 0.6\n",
      "Epoch 12 Training Loss 0.1129 Test Accuracy 0.9173 Training Time: 2.9 Test Time: 0.6\n",
      "Epoch 13 Training Loss 0.0976 Test Accuracy 0.9292 Training Time: 2.9 Test Time: 0.9\n",
      "Epoch 14 Training Loss 0.1005 Test Accuracy 0.9253 Training Time: 3.2 Test Time: 0.6\n",
      "Epoch 15 Training Loss 0.1007 Test Accuracy 0.9322 Training Time: 2.9 Test Time: 0.6\n",
      "Epoch 16 Training Loss 0.0848 Test Accuracy 0.9138 Training Time: 2.9 Test Time: 0.6\n",
      "Epoch 17 Training Loss 0.0870 Test Accuracy 0.9322 Training Time: 2.8 Test Time: 0.6\n",
      "Epoch 18 Training Loss 0.0837 Test Accuracy 0.9287 Training Time: 2.9 Test Time: 0.6\n",
      "Epoch 19 Training Loss 0.0712 Test Accuracy 0.9347 Training Time: 2.9 Test Time: 0.6\n",
      "Epoch 20 Training Loss 0.0772 Test Accuracy 0.9302 Training Time: 2.9 Test Time: 0.6\n",
      "Epoch 21 Training Loss 0.0701 Test Accuracy 0.9307 Training Time: 2.9 Test Time: 0.6\n",
      "Epoch 22 Training Loss 0.0640 Test Accuracy 0.9402 Training Time: 2.9 Test Time: 0.6\n",
      "Epoch 23 Training Loss 0.0635 Test Accuracy 0.9263 Training Time: 2.9 Test Time: 0.6\n",
      "Epoch 24 Training Loss 0.0628 Test Accuracy 0.9243 Training Time: 2.9 Test Time: 0.6\n",
      "Epoch 25 Training Loss 0.0681 Test Accuracy 0.9322 Training Time: 2.9 Test Time: 0.6\n",
      "Epoch 26 Training Loss 0.0624 Test Accuracy 0.9367 Training Time: 2.9 Test Time: 0.6\n",
      "Epoch 27 Training Loss 0.0617 Test Accuracy 0.9387 Training Time: 2.9 Test Time: 0.6\n",
      "Epoch 28 Training Loss 0.0583 Test Accuracy 0.9337 Training Time: 2.9 Test Time: 0.6\n",
      "Epoch 29 Training Loss 0.0528 Test Accuracy 0.9292 Training Time: 2.9 Test Time: 0.6\n",
      "Epoch 30 Training Loss 0.0560 Test Accuracy 0.9297 Training Time: 2.9 Test Time: 0.6\n",
      "Epoch 31 Training Loss 0.0469 Test Accuracy 0.9297 Training Time: 2.9 Test Time: 0.6\n",
      "Epoch 32 Training Loss 0.0514 Test Accuracy 0.9332 Training Time: 2.9 Test Time: 0.6\n",
      "Epoch 33 Training Loss 0.0467 Test Accuracy 0.9322 Training Time: 2.9 Test Time: 0.6\n",
      "Epoch 34 Training Loss 0.0460 Test Accuracy 0.9347 Training Time: 2.9 Test Time: 0.6\n",
      "Epoch 35 Training Loss 0.0463 Test Accuracy 0.9367 Training Time: 2.9 Test Time: 0.6\n",
      "Epoch 36 Training Loss 0.0447 Test Accuracy 0.9392 Training Time: 2.9 Test Time: 0.6\n",
      "Epoch 37 Training Loss 0.0531 Test Accuracy 0.9377 Training Time: 2.9 Test Time: 0.6\n",
      "Epoch 38 Training Loss 0.0415 Test Accuracy 0.9392 Training Time: 2.9 Test Time: 0.6\n",
      "Epoch 39 Training Loss 0.0437 Test Accuracy 0.9352 Training Time: 2.9 Test Time: 0.6\n",
      "Epoch 40 Training Loss 0.0413 Test Accuracy 0.9297 Training Time: 2.9 Test Time: 0.6\n",
      "Epoch 41 Training Loss 0.0431 Test Accuracy 0.9352 Training Time: 2.9 Test Time: 0.6\n",
      "Epoch 42 Training Loss 0.0393 Test Accuracy 0.9327 Training Time: 2.9 Test Time: 0.6\n",
      "Epoch 43 Training Loss 0.0329 Test Accuracy 0.9327 Training Time: 2.8 Test Time: 0.6\n",
      "Epoch 44 Training Loss 0.0317 Test Accuracy 0.9372 Training Time: 2.9 Test Time: 0.6\n",
      "Epoch 45 Training Loss 0.0364 Test Accuracy 0.9347 Training Time: 2.9 Test Time: 0.6\n",
      "Epoch 46 Training Loss 0.0361 Test Accuracy 0.9337 Training Time: 2.9 Test Time: 0.6\n",
      "Epoch 47 Training Loss 0.0375 Test Accuracy 0.9342 Training Time: 2.9 Test Time: 0.6\n",
      "Epoch 48 Training Loss 0.0378 Test Accuracy 0.9367 Training Time: 2.9 Test Time: 0.6\n",
      "Epoch 49 Training Loss 0.0320 Test Accuracy 0.9357 Training Time: 2.8 Test Time: 0.6\n",
      "Epoch 50 Training Loss 0.0321 Test Accuracy 0.9362 Training Time: 2.9 Test Time: 0.6\n",
      "Epoch 51 Training Loss 0.0321 Test Accuracy 0.9422 Training Time: 2.9 Test Time: 0.6\n",
      "Epoch 52 Training Loss 0.0320 Test Accuracy 0.9392 Training Time: 2.9 Test Time: 0.6\n",
      "Epoch 53 Training Loss 0.0284 Test Accuracy 0.9397 Training Time: 2.9 Test Time: 0.6\n",
      "Epoch 54 Training Loss 0.0311 Test Accuracy 0.9382 Training Time: 2.9 Test Time: 0.6\n",
      "Epoch 55 Training Loss 0.0307 Test Accuracy 0.9357 Training Time: 2.9 Test Time: 0.6\n",
      "Epoch 56 Training Loss 0.0309 Test Accuracy 0.9407 Training Time: 2.9 Test Time: 0.6\n",
      "Epoch 57 Training Loss 0.0266 Test Accuracy 0.9392 Training Time: 2.9 Test Time: 0.6\n",
      "Epoch 58 Training Loss 0.0352 Test Accuracy 0.9402 Training Time: 2.9 Test Time: 0.6\n",
      "Epoch 59 Training Loss 0.0277 Test Accuracy 0.9412 Training Time: 2.9 Test Time: 0.6\n",
      "Epoch 60 Training Loss 0.0285 Test Accuracy 0.9382 Training Time: 2.9 Test Time: 0.6\n",
      "Epoch 61 Training Loss 0.0256 Test Accuracy 0.9347 Training Time: 2.9 Test Time: 0.6\n",
      "Epoch 62 Training Loss 0.0269 Test Accuracy 0.9312 Training Time: 2.9 Test Time: 0.6\n",
      "Epoch 63 Training Loss 0.0303 Test Accuracy 0.9372 Training Time: 2.8 Test Time: 0.6\n",
      "Epoch 64 Training Loss 0.0284 Test Accuracy 0.9382 Training Time: 2.9 Test Time: 0.6\n",
      "Epoch 65 Training Loss 0.0251 Test Accuracy 0.9322 Training Time: 2.9 Test Time: 0.6\n",
      "Epoch 66 Training Loss 0.0263 Test Accuracy 0.9322 Training Time: 2.8 Test Time: 0.6\n",
      "Epoch 67 Training Loss 0.0246 Test Accuracy 0.9382 Training Time: 2.9 Test Time: 0.6\n",
      "Epoch 68 Training Loss 0.0258 Test Accuracy 0.9427 Training Time: 2.9 Test Time: 0.6\n",
      "Epoch 69 Training Loss 0.0222 Test Accuracy 0.9407 Training Time: 2.9 Test Time: 0.6\n",
      "Epoch 70 Training Loss 0.0259 Test Accuracy 0.9412 Training Time: 2.9 Test Time: 0.6\n",
      "Epoch 71 Training Loss 0.0232 Test Accuracy 0.9357 Training Time: 2.9 Test Time: 0.6\n",
      "Epoch 72 Training Loss 0.0251 Test Accuracy 0.9377 Training Time: 2.9 Test Time: 0.6\n",
      "Epoch 73 Training Loss 0.0201 Test Accuracy 0.9377 Training Time: 2.9 Test Time: 0.6\n",
      "Epoch 74 Training Loss 0.0202 Test Accuracy 0.9397 Training Time: 2.9 Test Time: 0.6\n",
      "Epoch 75 Training Loss 0.0218 Test Accuracy 0.9412 Training Time: 2.9 Test Time: 0.6\n",
      "Epoch 76 Training Loss 0.0188 Test Accuracy 0.9382 Training Time: 2.9 Test Time: 0.6\n",
      "Epoch 77 Training Loss 0.0240 Test Accuracy 0.9397 Training Time: 2.9 Test Time: 0.6\n",
      "Epoch 78 Training Loss 0.0189 Test Accuracy 0.9382 Training Time: 2.8 Test Time: 0.6\n",
      "Epoch 79 Training Loss 0.0262 Test Accuracy 0.9382 Training Time: 2.9 Test Time: 0.6\n",
      "Epoch 80 Training Loss 0.0273 Test Accuracy 0.9442 Training Time: 2.9 Test Time: 0.6\n",
      "Epoch 81 Training Loss 0.0199 Test Accuracy 0.9337 Training Time: 2.8 Test Time: 0.6\n",
      "Epoch 82 Training Loss 0.0223 Test Accuracy 0.9402 Training Time: 2.9 Test Time: 0.6\n",
      "Epoch 83 Training Loss 0.0264 Test Accuracy 0.9392 Training Time: 2.9 Test Time: 0.6\n",
      "Epoch 84 Training Loss 0.0227 Test Accuracy 0.9482 Training Time: 2.9 Test Time: 0.6\n",
      "Epoch 85 Training Loss 0.0187 Test Accuracy 0.9392 Training Time: 2.9 Test Time: 0.6\n",
      "Epoch 86 Training Loss 0.0206 Test Accuracy 0.9402 Training Time: 2.9 Test Time: 0.6\n",
      "Epoch 87 Training Loss 0.0207 Test Accuracy 0.9412 Training Time: 2.9 Test Time: 0.6\n",
      "Epoch 88 Training Loss 0.0199 Test Accuracy 0.9352 Training Time: 2.9 Test Time: 0.6\n",
      "Epoch 89 Training Loss 0.0175 Test Accuracy 0.9417 Training Time: 2.9 Test Time: 0.6\n",
      "Epoch 90 Training Loss 0.0207 Test Accuracy 0.9457 Training Time: 2.9 Test Time: 0.6\n",
      "Epoch 91 Training Loss 0.0187 Test Accuracy 0.9357 Training Time: 2.9 Test Time: 0.6\n",
      "Epoch 92 Training Loss 0.0193 Test Accuracy 0.9452 Training Time: 2.9 Test Time: 0.6\n",
      "Epoch 93 Training Loss 0.0191 Test Accuracy 0.9427 Training Time: 2.9 Test Time: 0.6\n",
      "Epoch 94 Training Loss 0.0180 Test Accuracy 0.9407 Training Time: 2.9 Test Time: 0.6\n",
      "Epoch 95 Training Loss 0.0148 Test Accuracy 0.9382 Training Time: 2.9 Test Time: 0.6\n",
      "Epoch 96 Training Loss 0.0178 Test Accuracy 0.9432 Training Time: 2.9 Test Time: 0.6\n",
      "Epoch 97 Training Loss 0.0178 Test Accuracy 0.9412 Training Time: 2.9 Test Time: 0.6\n",
      "Epoch 98 Training Loss 0.0181 Test Accuracy 0.9397 Training Time: 2.8 Test Time: 0.6\n",
      "Epoch 99 Training Loss 0.0170 Test Accuracy 0.9407 Training Time: 2.9 Test Time: 0.6\n",
      "End Training\n",
      "Total time:  352.92622900009155\n"
     ]
    }
   ],
   "source": [
    "device = torch.device(\"cuda\" if torch.cuda.is_available() else \"cpu\")\n",
    "input_dim = 256\n",
    "output_dim = 10\n",
    "hidden_dim = 128\n",
    "param_dict = {\n",
    "    'hid_layer':[0.3, 0.3, 0.5, 0.4],\n",
    "    'out_layer':[0.3, 0.3, 0.5, 0.4]\n",
    "}\n",
    "snn_timestep = 20\n",
    "network = WrapSNN(input_dim, output_dim, hidden_dim, param_dict, device)\n",
    "batch_size_train = 100\n",
    "batch_size_test = 200\n",
    "epoch = 100\n",
    "start_time = time.time()\n",
    "train_loss_list, test_accuracy_list = stbp_snn_training(network, snn_timestep, device=device, batch_size=batch_size_train, test_batch_size=batch_size_test, epoch=epoch)\n",
    "end_time = time.time()\n",
    "print(\"Total time: \", end_time - start_time)"
   ]
  },
  {
   "cell_type": "code",
   "execution_count": null,
   "id": "418336dc",
   "metadata": {
    "colab": {
     "base_uri": "https://localhost:8080/",
     "height": 295
    },
    "executionInfo": {
     "elapsed": 436,
     "status": "ok",
     "timestamp": 1651156285157,
     "user": {
      "displayName": "CHAO ZHAO",
      "userId": "12706035146437762126"
     },
     "user_tz": 240
    },
    "id": "418336dc",
    "outputId": "058916cd-5f1b-4f24-8385-7def97eb6f4f"
   },
   "outputs": [
    {
     "data": {
      "image/png": "[encoded data removed]",
      "text/plain": [
       "<Figure size 720x288 with 2 Axes>"
      ]
     },
     "metadata": {
      "needs_background": "light"
     },
     "output_type": "display_data"
    }
   ],
   "source": [
    "fig = plt.figure(figsize=(10, 4))\n",
    "ax1 = fig.add_subplot(121)\n",
    "ax2 = fig.add_subplot(122)\n",
    "x = [_ for _ in range(100)]\n",
    "\n",
    "accuracy_snn = [_.to(\"cpu\") for _ in test_accuracy_list]\n",
    "loss_snn = train_loss_list\n",
    "\n",
    "ax1.plot(x, loss_snn, label='train loss', color='red')\n",
    "ax2.plot(x, accuracy_snn, label='test accuracy', color='blue')\n",
    "ax1.set_title('SNN: loss vs Number of epoches')\n",
    "ax2.set_title('SNN: Accuracy vs Number of epoches')\n",
    "ax1.set_xlabel('epoches')\n",
    "ax2.set_xlabel('epoches')\n",
    "ax1.legend()\n",
    "ax2.legend()\n",
    "plt.show()"
   ]
  },
  {
   "cell_type": "code",
   "execution_count": null,
   "id": "28795e0d",
   "metadata": {
    "colab": {
     "base_uri": "https://localhost:8080/"
    },
    "executionInfo": {
     "elapsed": 177,
     "status": "ok",
     "timestamp": 1650993322394,
     "user": {
      "displayName": "CHAO ZHAO",
      "userId": "12706035146437762126"
     },
     "user_tz": 240
    },
    "id": "28795e0d",
    "outputId": "5ca0389b-c16d-4271-c125-b42fb43c9a4c"
   },
   "outputs": [
    {
     "data": {
      "text/plain": [
       "torch.Size([128, 256])"
      ]
     },
     "execution_count": 10,
     "metadata": {},
     "output_type": "execute_result"
    }
   ],
   "source": [
    "network.snn.hidden_cell.psp_func.weight.shape"
   ]
  },
  {
   "cell_type": "code",
   "execution_count": null,
   "id": "ef46c04b",
   "metadata": {
    "id": "ef46c04b"
   },
   "outputs": [],
   "source": [
    "'''\n",
    "    define ANN\n",
    "'''\n",
    "\n",
    "class ANNModel(nn.Module):\n",
    "    def __init__(self, input_dim, hidden_dim, output_dim):\n",
    "        super(ANNModel, self).__init__()\n",
    "        self.fc1 = nn.Linear(input_dim, hidden_dim, bias=False) \n",
    "        self.relu1 = nn.ReLU()\n",
    "        # self.fc2 = nn.Linear(hidden_dim, hidden_dim)\n",
    "        # self.relu2 = nn.ReLU()\n",
    "        # self.fc3 = nn.Linear(hidden_dim, hidden_dim)\n",
    "        # self.relu3 = nn.ReLU()\n",
    "        self.fc4 = nn.Linear(hidden_dim, output_dim)\n",
    "    \n",
    "    def forward(self, x):\n",
    "        out = self.fc1(x)\n",
    "        out = self.relu1(out)\n",
    "        # out = self.fc2(out)\n",
    "        # out = self.relu2(out)\n",
    "        # out = self.fc3(out)\n",
    "        # out = self.relu3(out)\n",
    "        out = self.fc4(out)\n",
    "        return out\n"
   ]
  },
  {
   "cell_type": "code",
   "execution_count": null,
   "id": "WxR9-61T5KF8",
   "metadata": {
    "id": "WxR9-61T5KF8"
   },
   "outputs": [],
   "source": [
    "from sklearn.decomposition import PCA"
   ]
  },
  {
   "cell_type": "code",
   "execution_count": null,
   "id": "3704d2f2",
   "metadata": {
    "id": "3704d2f2"
   },
   "outputs": [],
   "source": [
    "def ann_train(network, device, train_batch_size=100, test_batch_size=200, epoch=100):\n",
    "    \n",
    "    try:\n",
    "        os.mkdir(\"./data\")\n",
    "        print(\"Directory data Created\")\n",
    "    except FileExistsError:\n",
    "        print(\"Directory data already exists\")\n",
    "    data_path = './data/'\n",
    "    \n",
    "    train_dataset = torchvision.datasets.USPS(root=data_path, train=True, download=True, transform=transforms.ToTensor())\n",
    "    test_dataset = torchvision.datasets.USPS(root=data_path, train=False, download=True, transform=transforms.ToTensor())\n",
    "\n",
    "    train_dataloader = DataLoader(train_dataset, batch_size=train_batch_size, shuffle=False, num_workers=4)\n",
    "    test_dataloader = DataLoader(test_dataset, batch_size=test_batch_size, shuffle=False, num_workers=4)\n",
    "    \n",
    "    criterion = nn.CrossEntropyLoss()\n",
    "    optimizer = optim.SGD(network.parameters(), lr = 0.1)\n",
    "    \n",
    "    train_loss_list, test_accuracy_list = [], []\n",
    "    test_num = len(test_dataset)\n",
    "    \n",
    "    network.to(device)\n",
    "\n",
    "    # pca=PCA(n_components=256)\n",
    "    \n",
    "    for ee in range(epoch):\n",
    "        running_loss = 0.0\n",
    "        running_batch_num = 0\n",
    "        train_start = time.time()\n",
    "        \n",
    "        for data in train_dataloader:\n",
    "            image, label = data[0], data[1]\n",
    "            label = label.squeeze()\n",
    "            \n",
    "            image = image.to(device)\n",
    "            label = label.to(device)\n",
    "            \n",
    "            image = image.view(-1, 256)\n",
    "\n",
    "            # image_ = pca.fit_transform(image)\n",
    "            # img = torch.from_numpy(image_)\n",
    "            \n",
    "            optimizer.zero_grad(set_to_none=False)\n",
    "            network_output = network(image)\n",
    "            # network_output = network(img.float())\n",
    "            loss = criterion(network_output, label)\n",
    "            loss.backward()\n",
    "            optimizer.step()\n",
    "            \n",
    "            running_loss += loss.item()\n",
    "            running_batch_num += 1\n",
    "\n",
    "        train_end = time.time()\n",
    "        train_loss_list.append(running_loss / running_batch_num)\n",
    "        print(\"Epoch %d Training Loss %.4f\" % (ee, train_loss_list[-1]), end=\" \")\n",
    "        \n",
    "        test_correct_num = 0\n",
    "        test_start = time.time()\n",
    "        with torch.no_grad():\n",
    "            for data in test_dataloader:\n",
    "                \n",
    "                image, label = data[0], data[1]\n",
    "                label = label.squeeze()\n",
    "                \n",
    "                image = image.to(device)\n",
    "                label = label.to(device)\n",
    "                \n",
    "                image = image.view(-1, 256)\n",
    "                # image_ = pca.fit_transform(image)\n",
    "                # img = torch.from_numpy(image_)\n",
    "                outputs = network.forward(image)\n",
    "                # outputs = network.forward(img.float())\n",
    "\n",
    "                _, predicted = torch.max(outputs, 1)\n",
    "                \n",
    "                test_correct_num += (len(label) - torch.count_nonzero(label - predicted))\n",
    "        \n",
    "        test_end = time.time()\n",
    "        test_accuracy_list.append(test_correct_num / test_num)\n",
    "        print(\"Test Accuracy %.4f Training Time: %.1f Test Time: %.1f\" % (\n",
    "            test_accuracy_list[-1], train_end - train_start, test_end - test_start))\n",
    "    \n",
    "    print(\"End Training\")\n",
    "    network.to('cpu')\n",
    "    return train_loss_list, test_accuracy_list"
   ]
  },
  {
   "cell_type": "code",
   "execution_count": null,
   "id": "0d36840d",
   "metadata": {
    "colab": {
     "base_uri": "https://localhost:8080/"
    },
    "executionInfo": {
     "elapsed": 146145,
     "status": "ok",
     "timestamp": 1651156461065,
     "user": {
      "displayName": "CHAO ZHAO",
      "userId": "12706035146437762126"
     },
     "user_tz": 240
    },
    "id": "0d36840d",
    "outputId": "7ee1ab0f-f542-402e-e6bd-558f56d96ca3"
   },
   "outputs": [
    {
     "name": "stdout",
     "output_type": "stream",
     "text": [
      "Directory data already exists\n"
     ]
    },
    {
     "name": "stderr",
     "output_type": "stream",
     "text": [
      "/usr/local/lib/python3.7/dist-packages/torch/utils/data/dataloader.py:490: UserWarning: This DataLoader will create 4 worker processes in total. Our suggested max number of worker in current system is 2, which is smaller than what this DataLoader is going to create. Please be aware that excessive worker creation might get DataLoader running slow or even freeze, lower the worker number to avoid potential slowness/freeze if necessary.\n",
      "  cpuset_checked))\n"
     ]
    },
    {
     "name": "stdout",
     "output_type": "stream",
     "text": [
      "Epoch 0 Training Loss 1.5668 Test Accuracy 0.7773 Training Time: 0.9 Test Time: 0.3\n",
      "Epoch 1 Training Loss 0.6315 Test Accuracy 0.8545 Training Time: 0.9 Test Time: 0.3\n",
      "Epoch 2 Training Loss 0.3902 Test Accuracy 0.8789 Training Time: 0.9 Test Time: 0.3\n",
      "Epoch 3 Training Loss 0.3101 Test Accuracy 0.8904 Training Time: 0.9 Test Time: 0.3\n",
      "Epoch 4 Training Loss 0.2707 Test Accuracy 0.8999 Training Time: 0.9 Test Time: 0.3\n",
      "Epoch 5 Training Loss 0.2465 Test Accuracy 0.9033 Training Time: 0.9 Test Time: 0.3\n",
      "Epoch 6 Training Loss 0.2297 Test Accuracy 0.9048 Training Time: 0.9 Test Time: 0.3\n",
      "Epoch 7 Training Loss 0.2171 Test Accuracy 0.9058 Training Time: 0.9 Test Time: 0.3\n",
      "Epoch 8 Training Loss 0.2070 Test Accuracy 0.9088 Training Time: 0.9 Test Time: 0.3\n",
      "Epoch 9 Training Loss 0.1987 Test Accuracy 0.9118 Training Time: 0.9 Test Time: 0.3\n",
      "Epoch 10 Training Loss 0.1915 Test Accuracy 0.9138 Training Time: 0.9 Test Time: 0.3\n",
      "Epoch 11 Training Loss 0.1853 Test Accuracy 0.9163 Training Time: 0.9 Test Time: 0.4\n",
      "Epoch 12 Training Loss 0.1796 Test Accuracy 0.9163 Training Time: 0.9 Test Time: 0.3\n",
      "Epoch 13 Training Loss 0.1745 Test Accuracy 0.9158 Training Time: 0.9 Test Time: 0.3\n",
      "Epoch 14 Training Loss 0.1698 Test Accuracy 0.9163 Training Time: 0.9 Test Time: 0.3\n",
      "Epoch 15 Training Loss 0.1655 Test Accuracy 0.9168 Training Time: 0.9 Test Time: 0.3\n",
      "Epoch 16 Training Loss 0.1614 Test Accuracy 0.9178 Training Time: 0.9 Test Time: 0.3\n",
      "Epoch 17 Training Loss 0.1575 Test Accuracy 0.9188 Training Time: 0.9 Test Time: 0.3\n",
      "Epoch 18 Training Loss 0.1538 Test Accuracy 0.9193 Training Time: 0.9 Test Time: 0.3\n",
      "Epoch 19 Training Loss 0.1503 Test Accuracy 0.9188 Training Time: 0.9 Test Time: 0.3\n",
      "Epoch 20 Training Loss 0.1469 Test Accuracy 0.9198 Training Time: 0.9 Test Time: 0.3\n",
      "Epoch 21 Training Loss 0.1437 Test Accuracy 0.9213 Training Time: 0.9 Test Time: 0.3\n",
      "Epoch 22 Training Loss 0.1406 Test Accuracy 0.9228 Training Time: 0.9 Test Time: 0.3\n",
      "Epoch 23 Training Loss 0.1377 Test Accuracy 0.9228 Training Time: 0.9 Test Time: 0.3\n",
      "Epoch 24 Training Loss 0.1348 Test Accuracy 0.9238 Training Time: 0.9 Test Time: 0.3\n",
      "Epoch 25 Training Loss 0.1321 Test Accuracy 0.9243 Training Time: 0.9 Test Time: 0.3\n",
      "Epoch 26 Training Loss 0.1295 Test Accuracy 0.9248 Training Time: 0.9 Test Time: 0.3\n",
      "Epoch 27 Training Loss 0.1270 Test Accuracy 0.9258 Training Time: 0.9 Test Time: 0.3\n",
      "Epoch 28 Training Loss 0.1245 Test Accuracy 0.9258 Training Time: 0.9 Test Time: 0.3\n",
      "Epoch 29 Training Loss 0.1221 Test Accuracy 0.9258 Training Time: 0.9 Test Time: 0.4\n",
      "Epoch 30 Training Loss 0.1198 Test Accuracy 0.9268 Training Time: 1.1 Test Time: 0.4\n",
      "Epoch 31 Training Loss 0.1176 Test Accuracy 0.9273 Training Time: 1.0 Test Time: 0.5\n",
      "Epoch 32 Training Loss 0.1154 Test Accuracy 0.9273 Training Time: 1.4 Test Time: 0.5\n",
      "Epoch 33 Training Loss 0.1132 Test Accuracy 0.9273 Training Time: 1.2 Test Time: 0.4\n",
      "Epoch 34 Training Loss 0.1110 Test Accuracy 0.9263 Training Time: 1.4 Test Time: 0.7\n",
      "Epoch 35 Training Loss 0.1089 Test Accuracy 0.9263 Training Time: 1.9 Test Time: 0.7\n",
      "Epoch 36 Training Loss 0.1069 Test Accuracy 0.9268 Training Time: 1.2 Test Time: 0.5\n",
      "Epoch 37 Training Loss 0.1049 Test Accuracy 0.9273 Training Time: 1.3 Test Time: 0.5\n",
      "Epoch 38 Training Loss 0.1030 Test Accuracy 0.9278 Training Time: 1.2 Test Time: 0.4\n",
      "Epoch 39 Training Loss 0.1012 Test Accuracy 0.9278 Training Time: 1.4 Test Time: 0.5\n",
      "Epoch 40 Training Loss 0.0994 Test Accuracy 0.9283 Training Time: 1.3 Test Time: 0.4\n",
      "Epoch 41 Training Loss 0.0976 Test Accuracy 0.9287 Training Time: 1.3 Test Time: 0.5\n",
      "Epoch 42 Training Loss 0.0960 Test Accuracy 0.9283 Training Time: 1.1 Test Time: 0.7\n",
      "Epoch 43 Training Loss 0.0943 Test Accuracy 0.9287 Training Time: 1.3 Test Time: 0.6\n",
      "Epoch 44 Training Loss 0.0927 Test Accuracy 0.9287 Training Time: 1.1 Test Time: 0.5\n",
      "Epoch 45 Training Loss 0.0911 Test Accuracy 0.9287 Training Time: 1.6 Test Time: 0.4\n",
      "Epoch 46 Training Loss 0.0896 Test Accuracy 0.9287 Training Time: 1.1 Test Time: 0.5\n",
      "Epoch 47 Training Loss 0.0881 Test Accuracy 0.9297 Training Time: 1.3 Test Time: 0.5\n",
      "Epoch 48 Training Loss 0.0866 Test Accuracy 0.9307 Training Time: 1.0 Test Time: 0.4\n",
      "Epoch 49 Training Loss 0.0851 Test Accuracy 0.9307 Training Time: 1.1 Test Time: 0.5\n",
      "Epoch 50 Training Loss 0.0837 Test Accuracy 0.9307 Training Time: 1.0 Test Time: 0.3\n",
      "Epoch 51 Training Loss 0.0824 Test Accuracy 0.9312 Training Time: 1.2 Test Time: 0.4\n",
      "Epoch 52 Training Loss 0.0810 Test Accuracy 0.9312 Training Time: 1.2 Test Time: 0.4\n",
      "Epoch 53 Training Loss 0.0797 Test Accuracy 0.9312 Training Time: 1.2 Test Time: 0.4\n",
      "Epoch 54 Training Loss 0.0784 Test Accuracy 0.9312 Training Time: 1.3 Test Time: 0.5\n",
      "Epoch 55 Training Loss 0.0771 Test Accuracy 0.9317 Training Time: 1.2 Test Time: 0.6\n",
      "Epoch 56 Training Loss 0.0759 Test Accuracy 0.9322 Training Time: 1.2 Test Time: 0.5\n",
      "Epoch 57 Training Loss 0.0746 Test Accuracy 0.9327 Training Time: 1.4 Test Time: 0.7\n",
      "Epoch 58 Training Loss 0.0734 Test Accuracy 0.9327 Training Time: 1.5 Test Time: 0.5\n",
      "Epoch 59 Training Loss 0.0723 Test Accuracy 0.9327 Training Time: 1.4 Test Time: 0.5\n",
      "Epoch 60 Training Loss 0.0711 Test Accuracy 0.9327 Training Time: 1.2 Test Time: 0.5\n",
      "Epoch 61 Training Loss 0.0700 Test Accuracy 0.9327 Training Time: 1.2 Test Time: 0.5\n",
      "Epoch 62 Training Loss 0.0689 Test Accuracy 0.9322 Training Time: 1.2 Test Time: 0.5\n",
      "Epoch 63 Training Loss 0.0678 Test Accuracy 0.9322 Training Time: 1.1 Test Time: 0.5\n",
      "Epoch 64 Training Loss 0.0668 Test Accuracy 0.9322 Training Time: 1.0 Test Time: 0.3\n",
      "Epoch 65 Training Loss 0.0657 Test Accuracy 0.9322 Training Time: 0.9 Test Time: 0.3\n",
      "Epoch 66 Training Loss 0.0647 Test Accuracy 0.9322 Training Time: 0.9 Test Time: 0.3\n",
      "Epoch 67 Training Loss 0.0637 Test Accuracy 0.9322 Training Time: 0.9 Test Time: 0.3\n",
      "Epoch 68 Training Loss 0.0628 Test Accuracy 0.9322 Training Time: 0.9 Test Time: 0.3\n",
      "Epoch 69 Training Loss 0.0618 Test Accuracy 0.9312 Training Time: 0.9 Test Time: 0.3\n",
      "Epoch 70 Training Loss 0.0609 Test Accuracy 0.9312 Training Time: 0.9 Test Time: 0.3\n",
      "Epoch 71 Training Loss 0.0600 Test Accuracy 0.9307 Training Time: 0.9 Test Time: 0.3\n",
      "Epoch 72 Training Loss 0.0591 Test Accuracy 0.9312 Training Time: 0.9 Test Time: 0.4\n",
      "Epoch 73 Training Loss 0.0582 Test Accuracy 0.9312 Training Time: 0.9 Test Time: 0.3\n",
      "Epoch 74 Training Loss 0.0574 Test Accuracy 0.9317 Training Time: 0.9 Test Time: 0.3\n",
      "Epoch 75 Training Loss 0.0565 Test Accuracy 0.9317 Training Time: 0.9 Test Time: 0.3\n",
      "Epoch 76 Training Loss 0.0557 Test Accuracy 0.9317 Training Time: 0.9 Test Time: 0.3\n",
      "Epoch 77 Training Loss 0.0549 Test Accuracy 0.9322 Training Time: 0.9 Test Time: 0.4\n",
      "Epoch 78 Training Loss 0.0541 Test Accuracy 0.9327 Training Time: 0.9 Test Time: 0.3\n",
      "Epoch 79 Training Loss 0.0533 Test Accuracy 0.9332 Training Time: 0.9 Test Time: 0.3\n",
      "Epoch 80 Training Loss 0.0525 Test Accuracy 0.9332 Training Time: 0.9 Test Time: 0.3\n",
      "Epoch 81 Training Loss 0.0518 Test Accuracy 0.9337 Training Time: 0.9 Test Time: 0.4\n",
      "Epoch 82 Training Loss 0.0510 Test Accuracy 0.9337 Training Time: 0.9 Test Time: 0.3\n",
      "Epoch 83 Training Loss 0.0502 Test Accuracy 0.9342 Training Time: 0.9 Test Time: 0.3\n",
      "Epoch 84 Training Loss 0.0496 Test Accuracy 0.9337 Training Time: 0.9 Test Time: 0.3\n",
      "Epoch 85 Training Loss 0.0488 Test Accuracy 0.9337 Training Time: 0.9 Test Time: 0.3\n",
      "Epoch 86 Training Loss 0.0481 Test Accuracy 0.9332 Training Time: 0.9 Test Time: 0.4\n",
      "Epoch 87 Training Loss 0.0475 Test Accuracy 0.9337 Training Time: 1.0 Test Time: 0.3\n",
      "Epoch 88 Training Loss 0.0468 Test Accuracy 0.9342 Training Time: 0.9 Test Time: 0.3\n",
      "Epoch 89 Training Loss 0.0461 Test Accuracy 0.9342 Training Time: 0.9 Test Time: 0.3\n",
      "Epoch 90 Training Loss 0.0455 Test Accuracy 0.9342 Training Time: 0.9 Test Time: 0.4\n",
      "Epoch 91 Training Loss 0.0449 Test Accuracy 0.9347 Training Time: 0.9 Test Time: 0.3\n",
      "Epoch 92 Training Loss 0.0443 Test Accuracy 0.9347 Training Time: 0.9 Test Time: 0.3\n",
      "Epoch 93 Training Loss 0.0436 Test Accuracy 0.9347 Training Time: 0.9 Test Time: 0.3\n",
      "Epoch 94 Training Loss 0.0431 Test Accuracy 0.9347 Training Time: 0.9 Test Time: 0.4\n",
      "Epoch 95 Training Loss 0.0425 Test Accuracy 0.9347 Training Time: 0.9 Test Time: 0.4\n",
      "Epoch 96 Training Loss 0.0419 Test Accuracy 0.9352 Training Time: 0.9 Test Time: 0.3\n",
      "Epoch 97 Training Loss 0.0413 Test Accuracy 0.9352 Training Time: 0.9 Test Time: 0.3\n",
      "Epoch 98 Training Loss 0.0408 Test Accuracy 0.9357 Training Time: 0.9 Test Time: 0.4\n",
      "Epoch 99 Training Loss 0.0403 Test Accuracy 0.9357 Training Time: 0.9 Test Time: 0.4\n",
      "End Training\n"
     ]
    }
   ],
   "source": [
    "input_dim = 256\n",
    "hidden_dim = 128 \n",
    "\n",
    "# input_dim = 256\n",
    "# hidden_dim = 50\n",
    "\n",
    "output_dim = 10\n",
    "\n",
    "ann = ANNModel(input_dim, hidden_dim, output_dim)\n",
    "\n",
    "device = torch.device(\"cuda\" if torch.cuda.is_available() else \"cpu\")\n",
    "ann_epoch = 100\n",
    "train_batch_size, test_batch_size = 100, 200\n",
    "start_time = time.time()\n",
    "ann_loss, ann_accuracy = ann_train(ann, device=device, train_batch_size=train_batch_size, test_batch_size=test_batch_size, epoch=ann_epoch)\n",
    "end_time = time.time()\n",
    "print(\"Total time: \", end_time - start_time, \"s\")"
   ]
  },
  {
   "cell_type": "code",
   "execution_count": null,
   "id": "12806bd8",
   "metadata": {
    "colab": {
     "base_uri": "https://localhost:8080/",
     "height": 295
    },
    "executionInfo": {
     "elapsed": 533,
     "status": "ok",
     "timestamp": 1651156465165,
     "user": {
      "displayName": "CHAO ZHAO",
      "userId": "12706035146437762126"
     },
     "user_tz": 240
    },
    "id": "12806bd8",
    "outputId": "f2a1f2a0-c1d9-47b8-d4af-bd09c910f239"
   },
   "outputs": [
    {
     "data": {
      "image/png": "[encoded data removed]",
      "text/plain": [
       "<Figure size 720x288 with 2 Axes>"
      ]
     },
     "metadata": {
      "needs_background": "light"
     },
     "output_type": "display_data"
    }
   ],
   "source": [
    "fig = plt.figure(figsize=(10, 4))\n",
    "ax1 = fig.add_subplot(121)\n",
    "ax2 = fig.add_subplot(122)\n",
    "x = [_ for _ in range(ann_epoch)]\n",
    "\n",
    "accuracy_ann = [_.to(\"cpu\") for _ in ann_accuracy]\n",
    "\n",
    "ax1.plot(x, ann_loss, label='train loss', color='red')\n",
    "ax2.plot(x, accuracy_ann, label='test accuracy', color='blue')\n",
    "ax1.set_title('ANN: Loss vs Number of epoches')\n",
    "ax2.set_title('ANN: Accuracy vs Number of epoches')\n",
    "ax1.set_xlabel('epoches')\n",
    "ax2.set_xlabel('epoches')\n",
    "ax1.legend()\n",
    "ax2.legend()\n",
    "plt.show()"
   ]
  },
  {
   "cell_type": "code",
   "execution_count": null,
   "id": "bff9968b",
   "metadata": {
    "id": "bff9968b"
   },
   "outputs": [],
   "source": [
    "'''\n",
    "    define the test function to test the updated weight for SNN\n",
    "'''\n",
    "\n",
    "def test_SNN(network, spike_ts, device, test_batch_size=256, epoch=100):\n",
    "\n",
    "    try:\n",
    "        os.mkdir(\"./data\")\n",
    "    except FileExistsError:\n",
    "        a = 0\n",
    "    \n",
    "    data_path = './data/'\n",
    "    \n",
    "    test_dataset = torchvision.datasets.USPS(root=data_path, train=False, download=True, transform=transforms.ToTensor())\n",
    "    test_dataloader = DataLoader(test_dataset, batch_size=test_batch_size, shuffle=False, num_workers=4)\n",
    "    \n",
    "    test_accuracy_list = []\n",
    "    test_num = len(test_dataset)\n",
    "    network.to(device)         \n",
    "    \n",
    "    test_correct_num = 0\n",
    "    test_start = time.time()\n",
    "    with torch.no_grad():\n",
    "        for data in test_dataloader:\n",
    "            image, label = data[0], data[1]\n",
    "            label = label.squeeze()\n",
    "\n",
    "            image = image.to(device)\n",
    "            label = label.to(device)\n",
    "\n",
    "            event_image = img_2_event_img(image, device, spike_ts)\n",
    "            event_image.squeeze()\n",
    "            event_image = event_image.reshape(-1, 256, spike_ts)\n",
    "\n",
    "            outputs = network.forward(event_image)\n",
    "\n",
    "            _, predicted = torch.max(outputs, 1)\n",
    "\n",
    "            test_correct_num += (len(label) - torch.count_nonzero(label - predicted))\n",
    "\n",
    "    test_end = time.time()\n",
    "    test_accuracy_list.append(test_correct_num / test_num)\n",
    "    print(\"Test Accuracy %.4f  Test Time: %.1f\" % (\n",
    "        test_accuracy_list[-1], test_end - test_start))\n",
    "    return test_accuracy_list[-1]"
   ]
  },
  {
   "cell_type": "code",
   "execution_count": null,
   "id": "d576f159",
   "metadata": {
    "colab": {
     "base_uri": "https://localhost:8080/"
    },
    "executionInfo": {
     "elapsed": 52124,
     "status": "ok",
     "timestamp": 1651156526471,
     "user": {
      "displayName": "CHAO ZHAO",
      "userId": "12706035146437762126"
     },
     "user_tz": 240
    },
    "id": "d576f159",
    "outputId": "e94fdad8-299a-4022-e25b-7ff42008e237"
   },
   "outputs": [
    {
     "name": "stdout",
     "output_type": "stream",
     "text": [
      "scaler =  0.05\n"
     ]
    },
    {
     "name": "stderr",
     "output_type": "stream",
     "text": [
      "/usr/local/lib/python3.7/dist-packages/torch/utils/data/dataloader.py:490: UserWarning: This DataLoader will create 4 worker processes in total. Our suggested max number of worker in current system is 2, which is smaller than what this DataLoader is going to create. Please be aware that excessive worker creation might get DataLoader running slow or even freeze, lower the worker number to avoid potential slowness/freeze if necessary.\n",
      "  cpuset_checked))\n"
     ]
    },
    {
     "name": "stdout",
     "output_type": "stream",
     "text": [
      "Test Accuracy 0.1789  Test Time: 0.7\n",
      "scaler =  0.1\n",
      "Test Accuracy 0.6263  Test Time: 0.6\n",
      "scaler =  0.15\n",
      "Test Accuracy 0.8889  Test Time: 0.6\n",
      "scaler =  0.2\n",
      "Test Accuracy 0.8904  Test Time: 0.6\n",
      "scaler =  0.25\n",
      "Test Accuracy 0.8675  Test Time: 0.6\n",
      "scaler =  0.3\n",
      "Test Accuracy 0.8450  Test Time: 0.6\n",
      "scaler =  0.35\n",
      "Test Accuracy 0.8371  Test Time: 0.6\n",
      "scaler =  0.4\n",
      "Test Accuracy 0.8072  Test Time: 0.6\n",
      "scaler =  0.45\n",
      "Test Accuracy 0.7952  Test Time: 0.6\n",
      "scaler =  0.5\n",
      "Test Accuracy 0.7843  Test Time: 0.6\n",
      "scaler =  0.55\n",
      "Test Accuracy 0.7638  Test Time: 0.6\n",
      "scaler =  0.6\n",
      "Test Accuracy 0.7509  Test Time: 0.6\n",
      "scaler =  0.65\n",
      "Test Accuracy 0.7285  Test Time: 0.6\n",
      "scaler =  0.7\n",
      "Test Accuracy 0.7250  Test Time: 0.6\n",
      "scaler =  0.75\n",
      "Test Accuracy 0.7165  Test Time: 0.6\n",
      "scaler =  0.8\n",
      "Test Accuracy 0.7120  Test Time: 0.6\n",
      "scaler =  0.85\n",
      "Test Accuracy 0.6921  Test Time: 0.6\n",
      "scaler =  0.9\n",
      "Test Accuracy 0.6861  Test Time: 0.6\n",
      "scaler =  0.95\n",
      "Test Accuracy 0.6826  Test Time: 0.6\n",
      "scaler =  1.0\n",
      "Test Accuracy 0.6761  Test Time: 0.6\n",
      "scaler =  1.05\n",
      "Test Accuracy 0.6622  Test Time: 0.6\n",
      "scaler =  1.1\n",
      "Test Accuracy 0.6667  Test Time: 0.6\n",
      "scaler =  1.15\n",
      "Test Accuracy 0.6472  Test Time: 0.6\n",
      "scaler =  1.2\n",
      "Test Accuracy 0.6472  Test Time: 1.0\n",
      "scaler =  1.25\n",
      "Test Accuracy 0.6328  Test Time: 0.6\n",
      "scaler =  1.3\n",
      "Test Accuracy 0.6398  Test Time: 0.9\n",
      "scaler =  1.35\n",
      "Test Accuracy 0.6248  Test Time: 0.6\n",
      "scaler =  1.4\n",
      "Test Accuracy 0.6208  Test Time: 0.6\n",
      "scaler =  1.45\n",
      "Test Accuracy 0.6183  Test Time: 0.6\n",
      "scaler =  1.5\n",
      "Test Accuracy 0.6213  Test Time: 0.6\n",
      "scaler =  1.55\n",
      "Test Accuracy 0.6114  Test Time: 0.6\n",
      "scaler =  1.6\n",
      "Test Accuracy 0.6104  Test Time: 0.6\n",
      "scaler =  1.65\n",
      "Test Accuracy 0.5914  Test Time: 0.6\n",
      "scaler =  1.7\n",
      "Test Accuracy 0.6019  Test Time: 0.6\n",
      "scaler =  1.75\n",
      "Test Accuracy 0.5855  Test Time: 0.6\n",
      "scaler =  1.8\n",
      "Test Accuracy 0.5949  Test Time: 0.6\n",
      "scaler =  1.85\n",
      "Test Accuracy 0.5929  Test Time: 0.6\n",
      "scaler =  1.9\n",
      "Test Accuracy 0.5859  Test Time: 0.6\n",
      "scaler =  1.95\n",
      "Test Accuracy 0.5805  Test Time: 0.6\n"
     ]
    }
   ],
   "source": [
    "'''\n",
    "    update the weight of SNN with the train result of ANN\n",
    "'''\n",
    "\n",
    "scalers = [ _/100 for _ in range(5, 200, 5)]\n",
    "ann_2_snn_accuracy_list = []\n",
    "for scaler in scalers:\n",
    "    print(\"scaler = \", scaler)\n",
    "    network.snn.hidden_cell_1.psp_func.weight.data = scaler * ann.fc1.weight.data\n",
    "    network.snn.output_cell.psp_func.weight.data = scaler * ann.fc4.weight.data\n",
    "    accuracy = test_SNN(network, 20, device = device, test_batch_size=256, epoch=100)\n",
    "    ann_2_snn_accuracy_list.append(accuracy)"
   ]
  },
  {
   "cell_type": "code",
   "execution_count": null,
   "id": "d2f256e9",
   "metadata": {
    "colab": {
     "base_uri": "https://localhost:8080/",
     "height": 295
    },
    "executionInfo": {
     "elapsed": 431,
     "status": "ok",
     "timestamp": 1651156532756,
     "user": {
      "displayName": "CHAO ZHAO",
      "userId": "12706035146437762126"
     },
     "user_tz": 240
    },
    "id": "d2f256e9",
    "outputId": "fe175e7f-65ba-4b5c-b14f-b96ef90076ca"
   },
   "outputs": [
    {
     "data": {
      "image/png": "[encoded data removed]",
      "text/plain": [
       "<Figure size 720x288 with 1 Axes>"
      ]
     },
     "metadata": {
      "needs_background": "light"
     },
     "output_type": "display_data"
    }
   ],
   "source": [
    "ann_to_snn_accuracy = [_.to(\"cpu\") for _ in ann_2_snn_accuracy_list]\n",
    "fig = plt.figure(figsize=(10, 4))\n",
    "ax = fig.add_subplot(111)\n",
    "\n",
    "ax.plot(scalers, ann_to_snn_accuracy, label='test accuracy', color='red')\n",
    "ax.set_title('ann to snn accuracy VS scaler')\n",
    "ax.set_xlabel('Scaler')\n",
    "ax.set_ylabel('Accuracy')\n",
    "ax.legend()\n",
    "plt.grid()\n",
    "plt.show()"
   ]
  },
  {
   "cell_type": "code",
   "execution_count": null,
   "id": "ffac15c0",
   "metadata": {
    "id": "ffac15c0"
   },
   "outputs": [],
   "source": []
  },
  {
   "cell_type": "code",
   "execution_count": null,
   "id": "edcc8bd4",
   "metadata": {
    "id": "edcc8bd4"
   },
   "outputs": [],
   "source": []
  }
 ],
 "metadata": {
  "colab": {
   "collapsed_sections": [],
   "name": "project_cz.ipynb",
   "provenance": []
  },
  "kernelspec": {
   "display_name": "Python 3 (ipykernel)",
   "language": "python",
   "name": "python3"
  },
  "language_info": {
   "codemirror_mode": {
    "name": "ipython",
    "version": 3
   },
   "file_extension": ".py",
   "mimetype": "text/x-python",
   "name": "python",
   "nbconvert_exporter": "python",
   "pygments_lexer": "ipython3",
   "version": "3.8.12"
  }
 },
 "nbformat": 4,
 "nbformat_minor": 5
}
